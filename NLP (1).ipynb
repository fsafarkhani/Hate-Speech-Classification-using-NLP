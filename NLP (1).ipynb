{
  "nbformat": 4,
  "nbformat_minor": 0,
  "metadata": {
    "colab": {
      "provenance": [],
      "gpuType": "T4"
    },
    "kernelspec": {
      "name": "python3",
      "display_name": "Python 3"
    },
    "language_info": {
      "name": "python"
    },
    "accelerator": "GPU",
    "widgets": {
      "application/vnd.jupyter.widget-state+json": {
        "6a9460a445424eebbee326f5940abc04": {
          "model_module": "@jupyter-widgets/controls",
          "model_name": "HBoxModel",
          "model_module_version": "1.5.0",
          "state": {
            "_dom_classes": [],
            "_model_module": "@jupyter-widgets/controls",
            "_model_module_version": "1.5.0",
            "_model_name": "HBoxModel",
            "_view_count": null,
            "_view_module": "@jupyter-widgets/controls",
            "_view_module_version": "1.5.0",
            "_view_name": "HBoxView",
            "box_style": "",
            "children": [
              "IPY_MODEL_b745dcfef9494c14a2ee6803ad0e3159",
              "IPY_MODEL_6ab9e8cacd64402b8e87a2d9868f6be6",
              "IPY_MODEL_b151c3f2139f438e8141a92221ee1d25"
            ],
            "layout": "IPY_MODEL_cfb63d943075494d8dc974fb6b314056"
          }
        },
        "b745dcfef9494c14a2ee6803ad0e3159": {
          "model_module": "@jupyter-widgets/controls",
          "model_name": "HTMLModel",
          "model_module_version": "1.5.0",
          "state": {
            "_dom_classes": [],
            "_model_module": "@jupyter-widgets/controls",
            "_model_module_version": "1.5.0",
            "_model_name": "HTMLModel",
            "_view_count": null,
            "_view_module": "@jupyter-widgets/controls",
            "_view_module_version": "1.5.0",
            "_view_name": "HTMLView",
            "description": "",
            "description_tooltip": null,
            "layout": "IPY_MODEL_9182496e733342d0b566b12ebede15d0",
            "placeholder": "​",
            "style": "IPY_MODEL_406b62c6ccb34c3194d9efe7f6b3066c",
            "value": "Map: 100%"
          }
        },
        "6ab9e8cacd64402b8e87a2d9868f6be6": {
          "model_module": "@jupyter-widgets/controls",
          "model_name": "FloatProgressModel",
          "model_module_version": "1.5.0",
          "state": {
            "_dom_classes": [],
            "_model_module": "@jupyter-widgets/controls",
            "_model_module_version": "1.5.0",
            "_model_name": "FloatProgressModel",
            "_view_count": null,
            "_view_module": "@jupyter-widgets/controls",
            "_view_module_version": "1.5.0",
            "_view_name": "ProgressView",
            "bar_style": "success",
            "description": "",
            "description_tooltip": null,
            "layout": "IPY_MODEL_11c662f7477b4191acde7deb34de8890",
            "max": 17880,
            "min": 0,
            "orientation": "horizontal",
            "style": "IPY_MODEL_b7b6e8efa77d4595b9ee5ee7214887ff",
            "value": 17880
          }
        },
        "b151c3f2139f438e8141a92221ee1d25": {
          "model_module": "@jupyter-widgets/controls",
          "model_name": "HTMLModel",
          "model_module_version": "1.5.0",
          "state": {
            "_dom_classes": [],
            "_model_module": "@jupyter-widgets/controls",
            "_model_module_version": "1.5.0",
            "_model_name": "HTMLModel",
            "_view_count": null,
            "_view_module": "@jupyter-widgets/controls",
            "_view_module_version": "1.5.0",
            "_view_name": "HTMLView",
            "description": "",
            "description_tooltip": null,
            "layout": "IPY_MODEL_92e31f6c50144234a31983c16ee71979",
            "placeholder": "​",
            "style": "IPY_MODEL_7365b8ddfffe4a578642d155b4dafb02",
            "value": " 17880/17880 [00:00&lt;00:00, 18593.75 examples/s]"
          }
        },
        "cfb63d943075494d8dc974fb6b314056": {
          "model_module": "@jupyter-widgets/base",
          "model_name": "LayoutModel",
          "model_module_version": "1.2.0",
          "state": {
            "_model_module": "@jupyter-widgets/base",
            "_model_module_version": "1.2.0",
            "_model_name": "LayoutModel",
            "_view_count": null,
            "_view_module": "@jupyter-widgets/base",
            "_view_module_version": "1.2.0",
            "_view_name": "LayoutView",
            "align_content": null,
            "align_items": null,
            "align_self": null,
            "border": null,
            "bottom": null,
            "display": null,
            "flex": null,
            "flex_flow": null,
            "grid_area": null,
            "grid_auto_columns": null,
            "grid_auto_flow": null,
            "grid_auto_rows": null,
            "grid_column": null,
            "grid_gap": null,
            "grid_row": null,
            "grid_template_areas": null,
            "grid_template_columns": null,
            "grid_template_rows": null,
            "height": null,
            "justify_content": null,
            "justify_items": null,
            "left": null,
            "margin": null,
            "max_height": null,
            "max_width": null,
            "min_height": null,
            "min_width": null,
            "object_fit": null,
            "object_position": null,
            "order": null,
            "overflow": null,
            "overflow_x": null,
            "overflow_y": null,
            "padding": null,
            "right": null,
            "top": null,
            "visibility": null,
            "width": null
          }
        },
        "9182496e733342d0b566b12ebede15d0": {
          "model_module": "@jupyter-widgets/base",
          "model_name": "LayoutModel",
          "model_module_version": "1.2.0",
          "state": {
            "_model_module": "@jupyter-widgets/base",
            "_model_module_version": "1.2.0",
            "_model_name": "LayoutModel",
            "_view_count": null,
            "_view_module": "@jupyter-widgets/base",
            "_view_module_version": "1.2.0",
            "_view_name": "LayoutView",
            "align_content": null,
            "align_items": null,
            "align_self": null,
            "border": null,
            "bottom": null,
            "display": null,
            "flex": null,
            "flex_flow": null,
            "grid_area": null,
            "grid_auto_columns": null,
            "grid_auto_flow": null,
            "grid_auto_rows": null,
            "grid_column": null,
            "grid_gap": null,
            "grid_row": null,
            "grid_template_areas": null,
            "grid_template_columns": null,
            "grid_template_rows": null,
            "height": null,
            "justify_content": null,
            "justify_items": null,
            "left": null,
            "margin": null,
            "max_height": null,
            "max_width": null,
            "min_height": null,
            "min_width": null,
            "object_fit": null,
            "object_position": null,
            "order": null,
            "overflow": null,
            "overflow_x": null,
            "overflow_y": null,
            "padding": null,
            "right": null,
            "top": null,
            "visibility": null,
            "width": null
          }
        },
        "406b62c6ccb34c3194d9efe7f6b3066c": {
          "model_module": "@jupyter-widgets/controls",
          "model_name": "DescriptionStyleModel",
          "model_module_version": "1.5.0",
          "state": {
            "_model_module": "@jupyter-widgets/controls",
            "_model_module_version": "1.5.0",
            "_model_name": "DescriptionStyleModel",
            "_view_count": null,
            "_view_module": "@jupyter-widgets/base",
            "_view_module_version": "1.2.0",
            "_view_name": "StyleView",
            "description_width": ""
          }
        },
        "11c662f7477b4191acde7deb34de8890": {
          "model_module": "@jupyter-widgets/base",
          "model_name": "LayoutModel",
          "model_module_version": "1.2.0",
          "state": {
            "_model_module": "@jupyter-widgets/base",
            "_model_module_version": "1.2.0",
            "_model_name": "LayoutModel",
            "_view_count": null,
            "_view_module": "@jupyter-widgets/base",
            "_view_module_version": "1.2.0",
            "_view_name": "LayoutView",
            "align_content": null,
            "align_items": null,
            "align_self": null,
            "border": null,
            "bottom": null,
            "display": null,
            "flex": null,
            "flex_flow": null,
            "grid_area": null,
            "grid_auto_columns": null,
            "grid_auto_flow": null,
            "grid_auto_rows": null,
            "grid_column": null,
            "grid_gap": null,
            "grid_row": null,
            "grid_template_areas": null,
            "grid_template_columns": null,
            "grid_template_rows": null,
            "height": null,
            "justify_content": null,
            "justify_items": null,
            "left": null,
            "margin": null,
            "max_height": null,
            "max_width": null,
            "min_height": null,
            "min_width": null,
            "object_fit": null,
            "object_position": null,
            "order": null,
            "overflow": null,
            "overflow_x": null,
            "overflow_y": null,
            "padding": null,
            "right": null,
            "top": null,
            "visibility": null,
            "width": null
          }
        },
        "b7b6e8efa77d4595b9ee5ee7214887ff": {
          "model_module": "@jupyter-widgets/controls",
          "model_name": "ProgressStyleModel",
          "model_module_version": "1.5.0",
          "state": {
            "_model_module": "@jupyter-widgets/controls",
            "_model_module_version": "1.5.0",
            "_model_name": "ProgressStyleModel",
            "_view_count": null,
            "_view_module": "@jupyter-widgets/base",
            "_view_module_version": "1.2.0",
            "_view_name": "StyleView",
            "bar_color": null,
            "description_width": ""
          }
        },
        "92e31f6c50144234a31983c16ee71979": {
          "model_module": "@jupyter-widgets/base",
          "model_name": "LayoutModel",
          "model_module_version": "1.2.0",
          "state": {
            "_model_module": "@jupyter-widgets/base",
            "_model_module_version": "1.2.0",
            "_model_name": "LayoutModel",
            "_view_count": null,
            "_view_module": "@jupyter-widgets/base",
            "_view_module_version": "1.2.0",
            "_view_name": "LayoutView",
            "align_content": null,
            "align_items": null,
            "align_self": null,
            "border": null,
            "bottom": null,
            "display": null,
            "flex": null,
            "flex_flow": null,
            "grid_area": null,
            "grid_auto_columns": null,
            "grid_auto_flow": null,
            "grid_auto_rows": null,
            "grid_column": null,
            "grid_gap": null,
            "grid_row": null,
            "grid_template_areas": null,
            "grid_template_columns": null,
            "grid_template_rows": null,
            "height": null,
            "justify_content": null,
            "justify_items": null,
            "left": null,
            "margin": null,
            "max_height": null,
            "max_width": null,
            "min_height": null,
            "min_width": null,
            "object_fit": null,
            "object_position": null,
            "order": null,
            "overflow": null,
            "overflow_x": null,
            "overflow_y": null,
            "padding": null,
            "right": null,
            "top": null,
            "visibility": null,
            "width": null
          }
        },
        "7365b8ddfffe4a578642d155b4dafb02": {
          "model_module": "@jupyter-widgets/controls",
          "model_name": "DescriptionStyleModel",
          "model_module_version": "1.5.0",
          "state": {
            "_model_module": "@jupyter-widgets/controls",
            "_model_module_version": "1.5.0",
            "_model_name": "DescriptionStyleModel",
            "_view_count": null,
            "_view_module": "@jupyter-widgets/base",
            "_view_module_version": "1.2.0",
            "_view_name": "StyleView",
            "description_width": ""
          }
        },
        "7e1dab20f656407e89b601e11b8ffda8": {
          "model_module": "@jupyter-widgets/controls",
          "model_name": "HBoxModel",
          "model_module_version": "1.5.0",
          "state": {
            "_dom_classes": [],
            "_model_module": "@jupyter-widgets/controls",
            "_model_module_version": "1.5.0",
            "_model_name": "HBoxModel",
            "_view_count": null,
            "_view_module": "@jupyter-widgets/controls",
            "_view_module_version": "1.5.0",
            "_view_name": "HBoxView",
            "box_style": "",
            "children": [
              "IPY_MODEL_67d8a4511f564c17947a9ebe8c991a31",
              "IPY_MODEL_6fe31370eaf34968aac0d820e2c1a079",
              "IPY_MODEL_d506da9a2f6f469f8c0edd58feca557c"
            ],
            "layout": "IPY_MODEL_e5a6b69d37e343d78f330c4024c407a1"
          }
        },
        "67d8a4511f564c17947a9ebe8c991a31": {
          "model_module": "@jupyter-widgets/controls",
          "model_name": "HTMLModel",
          "model_module_version": "1.5.0",
          "state": {
            "_dom_classes": [],
            "_model_module": "@jupyter-widgets/controls",
            "_model_module_version": "1.5.0",
            "_model_name": "HTMLModel",
            "_view_count": null,
            "_view_module": "@jupyter-widgets/controls",
            "_view_module_version": "1.5.0",
            "_view_name": "HTMLView",
            "description": "",
            "description_tooltip": null,
            "layout": "IPY_MODEL_c57e04656489493ea7329551aa3277ba",
            "placeholder": "​",
            "style": "IPY_MODEL_4c4d1da4ae784e0bbf29c9169d5e2061",
            "value": "Map: 100%"
          }
        },
        "6fe31370eaf34968aac0d820e2c1a079": {
          "model_module": "@jupyter-widgets/controls",
          "model_name": "FloatProgressModel",
          "model_module_version": "1.5.0",
          "state": {
            "_dom_classes": [],
            "_model_module": "@jupyter-widgets/controls",
            "_model_module_version": "1.5.0",
            "_model_name": "FloatProgressModel",
            "_view_count": null,
            "_view_module": "@jupyter-widgets/controls",
            "_view_module_version": "1.5.0",
            "_view_name": "ProgressView",
            "bar_style": "success",
            "description": "",
            "description_tooltip": null,
            "layout": "IPY_MODEL_8ed152a85aa54e04a78c166ba265b6cd",
            "max": 3832,
            "min": 0,
            "orientation": "horizontal",
            "style": "IPY_MODEL_c08b2dd5399a4c2da84d60e6cef0bdbc",
            "value": 3832
          }
        },
        "d506da9a2f6f469f8c0edd58feca557c": {
          "model_module": "@jupyter-widgets/controls",
          "model_name": "HTMLModel",
          "model_module_version": "1.5.0",
          "state": {
            "_dom_classes": [],
            "_model_module": "@jupyter-widgets/controls",
            "_model_module_version": "1.5.0",
            "_model_name": "HTMLModel",
            "_view_count": null,
            "_view_module": "@jupyter-widgets/controls",
            "_view_module_version": "1.5.0",
            "_view_name": "HTMLView",
            "description": "",
            "description_tooltip": null,
            "layout": "IPY_MODEL_71d19be9a60542adb003bf3a89163df4",
            "placeholder": "​",
            "style": "IPY_MODEL_edae7b904c23454c899ca870e3345506",
            "value": " 3832/3832 [00:00&lt;00:00, 16271.00 examples/s]"
          }
        },
        "e5a6b69d37e343d78f330c4024c407a1": {
          "model_module": "@jupyter-widgets/base",
          "model_name": "LayoutModel",
          "model_module_version": "1.2.0",
          "state": {
            "_model_module": "@jupyter-widgets/base",
            "_model_module_version": "1.2.0",
            "_model_name": "LayoutModel",
            "_view_count": null,
            "_view_module": "@jupyter-widgets/base",
            "_view_module_version": "1.2.0",
            "_view_name": "LayoutView",
            "align_content": null,
            "align_items": null,
            "align_self": null,
            "border": null,
            "bottom": null,
            "display": null,
            "flex": null,
            "flex_flow": null,
            "grid_area": null,
            "grid_auto_columns": null,
            "grid_auto_flow": null,
            "grid_auto_rows": null,
            "grid_column": null,
            "grid_gap": null,
            "grid_row": null,
            "grid_template_areas": null,
            "grid_template_columns": null,
            "grid_template_rows": null,
            "height": null,
            "justify_content": null,
            "justify_items": null,
            "left": null,
            "margin": null,
            "max_height": null,
            "max_width": null,
            "min_height": null,
            "min_width": null,
            "object_fit": null,
            "object_position": null,
            "order": null,
            "overflow": null,
            "overflow_x": null,
            "overflow_y": null,
            "padding": null,
            "right": null,
            "top": null,
            "visibility": null,
            "width": null
          }
        },
        "c57e04656489493ea7329551aa3277ba": {
          "model_module": "@jupyter-widgets/base",
          "model_name": "LayoutModel",
          "model_module_version": "1.2.0",
          "state": {
            "_model_module": "@jupyter-widgets/base",
            "_model_module_version": "1.2.0",
            "_model_name": "LayoutModel",
            "_view_count": null,
            "_view_module": "@jupyter-widgets/base",
            "_view_module_version": "1.2.0",
            "_view_name": "LayoutView",
            "align_content": null,
            "align_items": null,
            "align_self": null,
            "border": null,
            "bottom": null,
            "display": null,
            "flex": null,
            "flex_flow": null,
            "grid_area": null,
            "grid_auto_columns": null,
            "grid_auto_flow": null,
            "grid_auto_rows": null,
            "grid_column": null,
            "grid_gap": null,
            "grid_row": null,
            "grid_template_areas": null,
            "grid_template_columns": null,
            "grid_template_rows": null,
            "height": null,
            "justify_content": null,
            "justify_items": null,
            "left": null,
            "margin": null,
            "max_height": null,
            "max_width": null,
            "min_height": null,
            "min_width": null,
            "object_fit": null,
            "object_position": null,
            "order": null,
            "overflow": null,
            "overflow_x": null,
            "overflow_y": null,
            "padding": null,
            "right": null,
            "top": null,
            "visibility": null,
            "width": null
          }
        },
        "4c4d1da4ae784e0bbf29c9169d5e2061": {
          "model_module": "@jupyter-widgets/controls",
          "model_name": "DescriptionStyleModel",
          "model_module_version": "1.5.0",
          "state": {
            "_model_module": "@jupyter-widgets/controls",
            "_model_module_version": "1.5.0",
            "_model_name": "DescriptionStyleModel",
            "_view_count": null,
            "_view_module": "@jupyter-widgets/base",
            "_view_module_version": "1.2.0",
            "_view_name": "StyleView",
            "description_width": ""
          }
        },
        "8ed152a85aa54e04a78c166ba265b6cd": {
          "model_module": "@jupyter-widgets/base",
          "model_name": "LayoutModel",
          "model_module_version": "1.2.0",
          "state": {
            "_model_module": "@jupyter-widgets/base",
            "_model_module_version": "1.2.0",
            "_model_name": "LayoutModel",
            "_view_count": null,
            "_view_module": "@jupyter-widgets/base",
            "_view_module_version": "1.2.0",
            "_view_name": "LayoutView",
            "align_content": null,
            "align_items": null,
            "align_self": null,
            "border": null,
            "bottom": null,
            "display": null,
            "flex": null,
            "flex_flow": null,
            "grid_area": null,
            "grid_auto_columns": null,
            "grid_auto_flow": null,
            "grid_auto_rows": null,
            "grid_column": null,
            "grid_gap": null,
            "grid_row": null,
            "grid_template_areas": null,
            "grid_template_columns": null,
            "grid_template_rows": null,
            "height": null,
            "justify_content": null,
            "justify_items": null,
            "left": null,
            "margin": null,
            "max_height": null,
            "max_width": null,
            "min_height": null,
            "min_width": null,
            "object_fit": null,
            "object_position": null,
            "order": null,
            "overflow": null,
            "overflow_x": null,
            "overflow_y": null,
            "padding": null,
            "right": null,
            "top": null,
            "visibility": null,
            "width": null
          }
        },
        "c08b2dd5399a4c2da84d60e6cef0bdbc": {
          "model_module": "@jupyter-widgets/controls",
          "model_name": "ProgressStyleModel",
          "model_module_version": "1.5.0",
          "state": {
            "_model_module": "@jupyter-widgets/controls",
            "_model_module_version": "1.5.0",
            "_model_name": "ProgressStyleModel",
            "_view_count": null,
            "_view_module": "@jupyter-widgets/base",
            "_view_module_version": "1.2.0",
            "_view_name": "StyleView",
            "bar_color": null,
            "description_width": ""
          }
        },
        "71d19be9a60542adb003bf3a89163df4": {
          "model_module": "@jupyter-widgets/base",
          "model_name": "LayoutModel",
          "model_module_version": "1.2.0",
          "state": {
            "_model_module": "@jupyter-widgets/base",
            "_model_module_version": "1.2.0",
            "_model_name": "LayoutModel",
            "_view_count": null,
            "_view_module": "@jupyter-widgets/base",
            "_view_module_version": "1.2.0",
            "_view_name": "LayoutView",
            "align_content": null,
            "align_items": null,
            "align_self": null,
            "border": null,
            "bottom": null,
            "display": null,
            "flex": null,
            "flex_flow": null,
            "grid_area": null,
            "grid_auto_columns": null,
            "grid_auto_flow": null,
            "grid_auto_rows": null,
            "grid_column": null,
            "grid_gap": null,
            "grid_row": null,
            "grid_template_areas": null,
            "grid_template_columns": null,
            "grid_template_rows": null,
            "height": null,
            "justify_content": null,
            "justify_items": null,
            "left": null,
            "margin": null,
            "max_height": null,
            "max_width": null,
            "min_height": null,
            "min_width": null,
            "object_fit": null,
            "object_position": null,
            "order": null,
            "overflow": null,
            "overflow_x": null,
            "overflow_y": null,
            "padding": null,
            "right": null,
            "top": null,
            "visibility": null,
            "width": null
          }
        },
        "edae7b904c23454c899ca870e3345506": {
          "model_module": "@jupyter-widgets/controls",
          "model_name": "DescriptionStyleModel",
          "model_module_version": "1.5.0",
          "state": {
            "_model_module": "@jupyter-widgets/controls",
            "_model_module_version": "1.5.0",
            "_model_name": "DescriptionStyleModel",
            "_view_count": null,
            "_view_module": "@jupyter-widgets/base",
            "_view_module_version": "1.2.0",
            "_view_name": "StyleView",
            "description_width": ""
          }
        },
        "4411c78e3ff740948f514584f0fe32ab": {
          "model_module": "@jupyter-widgets/controls",
          "model_name": "HBoxModel",
          "model_module_version": "1.5.0",
          "state": {
            "_dom_classes": [],
            "_model_module": "@jupyter-widgets/controls",
            "_model_module_version": "1.5.0",
            "_model_name": "HBoxModel",
            "_view_count": null,
            "_view_module": "@jupyter-widgets/controls",
            "_view_module_version": "1.5.0",
            "_view_name": "HBoxView",
            "box_style": "",
            "children": [
              "IPY_MODEL_df9ed93341134ce4b8c4d406119425b2",
              "IPY_MODEL_1cc10dccb2b449f8a528d7658a66dd6d",
              "IPY_MODEL_e6d9eaa6ad5c47f8ba58302ec7e75dfb"
            ],
            "layout": "IPY_MODEL_798f42da55d64057a18a4530d1d78362"
          }
        },
        "df9ed93341134ce4b8c4d406119425b2": {
          "model_module": "@jupyter-widgets/controls",
          "model_name": "HTMLModel",
          "model_module_version": "1.5.0",
          "state": {
            "_dom_classes": [],
            "_model_module": "@jupyter-widgets/controls",
            "_model_module_version": "1.5.0",
            "_model_name": "HTMLModel",
            "_view_count": null,
            "_view_module": "@jupyter-widgets/controls",
            "_view_module_version": "1.5.0",
            "_view_name": "HTMLView",
            "description": "",
            "description_tooltip": null,
            "layout": "IPY_MODEL_760f8a91856c4f798445a1c98859e191",
            "placeholder": "​",
            "style": "IPY_MODEL_b0242c7478b342228fcb26bddd1bbb6c",
            "value": "Map: 100%"
          }
        },
        "1cc10dccb2b449f8a528d7658a66dd6d": {
          "model_module": "@jupyter-widgets/controls",
          "model_name": "FloatProgressModel",
          "model_module_version": "1.5.0",
          "state": {
            "_dom_classes": [],
            "_model_module": "@jupyter-widgets/controls",
            "_model_module_version": "1.5.0",
            "_model_name": "FloatProgressModel",
            "_view_count": null,
            "_view_module": "@jupyter-widgets/controls",
            "_view_module_version": "1.5.0",
            "_view_name": "ProgressView",
            "bar_style": "success",
            "description": "",
            "description_tooltip": null,
            "layout": "IPY_MODEL_48580970fb8a43a18d2143e19d74f435",
            "max": 3832,
            "min": 0,
            "orientation": "horizontal",
            "style": "IPY_MODEL_531771e51b8449db9d728aa6efb9bf91",
            "value": 3832
          }
        },
        "e6d9eaa6ad5c47f8ba58302ec7e75dfb": {
          "model_module": "@jupyter-widgets/controls",
          "model_name": "HTMLModel",
          "model_module_version": "1.5.0",
          "state": {
            "_dom_classes": [],
            "_model_module": "@jupyter-widgets/controls",
            "_model_module_version": "1.5.0",
            "_model_name": "HTMLModel",
            "_view_count": null,
            "_view_module": "@jupyter-widgets/controls",
            "_view_module_version": "1.5.0",
            "_view_name": "HTMLView",
            "description": "",
            "description_tooltip": null,
            "layout": "IPY_MODEL_ac30c5a7ae7e4967b69c1bb61331dff5",
            "placeholder": "​",
            "style": "IPY_MODEL_7caa7be7c8bc481e9cf99492c7e2d411",
            "value": " 3832/3832 [00:00&lt;00:00, 15430.62 examples/s]"
          }
        },
        "798f42da55d64057a18a4530d1d78362": {
          "model_module": "@jupyter-widgets/base",
          "model_name": "LayoutModel",
          "model_module_version": "1.2.0",
          "state": {
            "_model_module": "@jupyter-widgets/base",
            "_model_module_version": "1.2.0",
            "_model_name": "LayoutModel",
            "_view_count": null,
            "_view_module": "@jupyter-widgets/base",
            "_view_module_version": "1.2.0",
            "_view_name": "LayoutView",
            "align_content": null,
            "align_items": null,
            "align_self": null,
            "border": null,
            "bottom": null,
            "display": null,
            "flex": null,
            "flex_flow": null,
            "grid_area": null,
            "grid_auto_columns": null,
            "grid_auto_flow": null,
            "grid_auto_rows": null,
            "grid_column": null,
            "grid_gap": null,
            "grid_row": null,
            "grid_template_areas": null,
            "grid_template_columns": null,
            "grid_template_rows": null,
            "height": null,
            "justify_content": null,
            "justify_items": null,
            "left": null,
            "margin": null,
            "max_height": null,
            "max_width": null,
            "min_height": null,
            "min_width": null,
            "object_fit": null,
            "object_position": null,
            "order": null,
            "overflow": null,
            "overflow_x": null,
            "overflow_y": null,
            "padding": null,
            "right": null,
            "top": null,
            "visibility": null,
            "width": null
          }
        },
        "760f8a91856c4f798445a1c98859e191": {
          "model_module": "@jupyter-widgets/base",
          "model_name": "LayoutModel",
          "model_module_version": "1.2.0",
          "state": {
            "_model_module": "@jupyter-widgets/base",
            "_model_module_version": "1.2.0",
            "_model_name": "LayoutModel",
            "_view_count": null,
            "_view_module": "@jupyter-widgets/base",
            "_view_module_version": "1.2.0",
            "_view_name": "LayoutView",
            "align_content": null,
            "align_items": null,
            "align_self": null,
            "border": null,
            "bottom": null,
            "display": null,
            "flex": null,
            "flex_flow": null,
            "grid_area": null,
            "grid_auto_columns": null,
            "grid_auto_flow": null,
            "grid_auto_rows": null,
            "grid_column": null,
            "grid_gap": null,
            "grid_row": null,
            "grid_template_areas": null,
            "grid_template_columns": null,
            "grid_template_rows": null,
            "height": null,
            "justify_content": null,
            "justify_items": null,
            "left": null,
            "margin": null,
            "max_height": null,
            "max_width": null,
            "min_height": null,
            "min_width": null,
            "object_fit": null,
            "object_position": null,
            "order": null,
            "overflow": null,
            "overflow_x": null,
            "overflow_y": null,
            "padding": null,
            "right": null,
            "top": null,
            "visibility": null,
            "width": null
          }
        },
        "b0242c7478b342228fcb26bddd1bbb6c": {
          "model_module": "@jupyter-widgets/controls",
          "model_name": "DescriptionStyleModel",
          "model_module_version": "1.5.0",
          "state": {
            "_model_module": "@jupyter-widgets/controls",
            "_model_module_version": "1.5.0",
            "_model_name": "DescriptionStyleModel",
            "_view_count": null,
            "_view_module": "@jupyter-widgets/base",
            "_view_module_version": "1.2.0",
            "_view_name": "StyleView",
            "description_width": ""
          }
        },
        "48580970fb8a43a18d2143e19d74f435": {
          "model_module": "@jupyter-widgets/base",
          "model_name": "LayoutModel",
          "model_module_version": "1.2.0",
          "state": {
            "_model_module": "@jupyter-widgets/base",
            "_model_module_version": "1.2.0",
            "_model_name": "LayoutModel",
            "_view_count": null,
            "_view_module": "@jupyter-widgets/base",
            "_view_module_version": "1.2.0",
            "_view_name": "LayoutView",
            "align_content": null,
            "align_items": null,
            "align_self": null,
            "border": null,
            "bottom": null,
            "display": null,
            "flex": null,
            "flex_flow": null,
            "grid_area": null,
            "grid_auto_columns": null,
            "grid_auto_flow": null,
            "grid_auto_rows": null,
            "grid_column": null,
            "grid_gap": null,
            "grid_row": null,
            "grid_template_areas": null,
            "grid_template_columns": null,
            "grid_template_rows": null,
            "height": null,
            "justify_content": null,
            "justify_items": null,
            "left": null,
            "margin": null,
            "max_height": null,
            "max_width": null,
            "min_height": null,
            "min_width": null,
            "object_fit": null,
            "object_position": null,
            "order": null,
            "overflow": null,
            "overflow_x": null,
            "overflow_y": null,
            "padding": null,
            "right": null,
            "top": null,
            "visibility": null,
            "width": null
          }
        },
        "531771e51b8449db9d728aa6efb9bf91": {
          "model_module": "@jupyter-widgets/controls",
          "model_name": "ProgressStyleModel",
          "model_module_version": "1.5.0",
          "state": {
            "_model_module": "@jupyter-widgets/controls",
            "_model_module_version": "1.5.0",
            "_model_name": "ProgressStyleModel",
            "_view_count": null,
            "_view_module": "@jupyter-widgets/base",
            "_view_module_version": "1.2.0",
            "_view_name": "StyleView",
            "bar_color": null,
            "description_width": ""
          }
        },
        "ac30c5a7ae7e4967b69c1bb61331dff5": {
          "model_module": "@jupyter-widgets/base",
          "model_name": "LayoutModel",
          "model_module_version": "1.2.0",
          "state": {
            "_model_module": "@jupyter-widgets/base",
            "_model_module_version": "1.2.0",
            "_model_name": "LayoutModel",
            "_view_count": null,
            "_view_module": "@jupyter-widgets/base",
            "_view_module_version": "1.2.0",
            "_view_name": "LayoutView",
            "align_content": null,
            "align_items": null,
            "align_self": null,
            "border": null,
            "bottom": null,
            "display": null,
            "flex": null,
            "flex_flow": null,
            "grid_area": null,
            "grid_auto_columns": null,
            "grid_auto_flow": null,
            "grid_auto_rows": null,
            "grid_column": null,
            "grid_gap": null,
            "grid_row": null,
            "grid_template_areas": null,
            "grid_template_columns": null,
            "grid_template_rows": null,
            "height": null,
            "justify_content": null,
            "justify_items": null,
            "left": null,
            "margin": null,
            "max_height": null,
            "max_width": null,
            "min_height": null,
            "min_width": null,
            "object_fit": null,
            "object_position": null,
            "order": null,
            "overflow": null,
            "overflow_x": null,
            "overflow_y": null,
            "padding": null,
            "right": null,
            "top": null,
            "visibility": null,
            "width": null
          }
        },
        "7caa7be7c8bc481e9cf99492c7e2d411": {
          "model_module": "@jupyter-widgets/controls",
          "model_name": "DescriptionStyleModel",
          "model_module_version": "1.5.0",
          "state": {
            "_model_module": "@jupyter-widgets/controls",
            "_model_module_version": "1.5.0",
            "_model_name": "DescriptionStyleModel",
            "_view_count": null,
            "_view_module": "@jupyter-widgets/base",
            "_view_module_version": "1.2.0",
            "_view_name": "StyleView",
            "description_width": ""
          }
        }
      }
    }
  },
  "cells": [
    {
      "cell_type": "markdown",
      "source": [
        "# M508 Final Project: Hate Speech Classification using NLP\n",
        "# Author: Fereshteh Safarkhani\n",
        "\n",
        "#Introduction\n",
        "Nowadays everyone is using social media which is a worldwide communication platform to  open dialogue accross communities. Although this openness makes this space very harmful and offensive language like hate speech, racism, and misogyny or etc that can effect mental health and safety. Cheking these manually is not fast enought specially in feasible at scaling it takes so much time and  not even important. Important task for tech companies are automative content moderation and protect users and meet regulatory standards.\n",
        "\n",
        "This project focuses on prediction recognision hate speech and offensive language in online posts like tweeter. There is millions of messages in social media every day and it’s hard for people to check them all manually. So,  I use a labeled dataset of tweets to train a machine learning model that predict what tweet is hateful, offensive or just normal.\n",
        "\n",
        "\n",
        "#Business Problem\n",
        "Social media platforms like Twitter have a big challenge for handling harmful content like hate speech and offensive language. To keep users safe, follow the rules, and protect their brand, these platforms need smart tools to detect such content automatically.\n",
        "\n",
        "##Main Question\n",
        "How can we automatically detect and classify harmful tweets to make platforms safer?\n",
        "\n",
        "#Business Value\n",
        "\n",
        "User Safety: Helps to detect and remove harmful content before it spreads.\n",
        "\n",
        "Operational Efficiency: Reduces the money need for big moderation teams by letting the system do the heavy lifting.\n",
        "\n",
        "Law Compliance: Helps platforms be legal requirements, like content laws in the EU.\n",
        "\n",
        "Brand Trust: Safer platform makes users feel more comfortable which keeps them coming back and being loyal.\n",
        "\n",
        "Business Impact: Better moderation builds user trust, dont let people from leaving the platform and make the company image more strength.\n",
        "\n",
        "##Data Collection:\n",
        "The dataset is sourced from Kaggle which is available \"https://www.kaggle.com/datasets/mrmorj/hate-speech-and-offensive-language-dataset\", using data of Twitter which is used for speech detection. The text is classified as 3 classes: hate-speech, offensive language, and neither. This text contains of racist, sexist, homophobic, or generally offensive which has 24783 rows and 7 columns.\n",
        "\n"
      ],
      "metadata": {
        "id": "VEVfD3Gm22ez"
      }
    },
    {
      "cell_type": "markdown",
      "source": [
        "#System Design\n",
        "<p>The NLP pipeline includes the following components, designed to process raw tweets and deliver accurate prediction:</p>"
      ],
      "metadata": {
        "id": "Ij9QJfXggBV0"
      }
    },
    {
      "cell_type": "markdown",
      "source": [
        "![image.png]()![image.png](data:image/png;base64,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)"
      ],
      "metadata": {
        "id": "z9tqiP8Ne6Br"
      }
    },
    {
      "cell_type": "markdown",
      "source": [
        "##Import Libraries\n",
        "\n",
        "Library Usage Summary:\n",
        "\n",
        "pandas, numpy: Data modification and numerical computations.\n",
        "\n",
        "nltk, emoji: Text preprocessing (tokenization, stopword removal, emoji conversion)\n",
        "\n",
        "scikit-learn: Machine learning models, TF-IDF, metrics, and train-test splitting\n",
        "\n",
        "imbalanced-learn: SMOTE to handle class imbalance\n",
        "\n",
        "nlpaug: Data augmentation via synonym replacement\n",
        "\n",
        "transformers, datasets, evaluate: Hugging Face libraries for DistilBERT and evaluation\n",
        "\n",
        "matplotlib, seaborn: Data visualization and plotting\n"
      ],
      "metadata": {
        "id": "_95mIR2t2_t_"
      }
    },
    {
      "cell_type": "code",
      "execution_count": null,
      "metadata": {
        "id": "RSOTlrUt2znG",
        "colab": {
          "base_uri": "https://localhost:8080/"
        },
        "outputId": "7b2b172b-397b-4814-eb30-110a3f3bb398"
      },
      "outputs": [
        {
          "output_type": "stream",
          "name": "stdout",
          "text": [
            "Requirement already satisfied: emoji in /usr/local/lib/python3.11/dist-packages (2.14.1)\n"
          ]
        },
        {
          "output_type": "execute_result",
          "data": {
            "text/plain": [
              "True"
            ]
          },
          "metadata": {},
          "execution_count": 2
        }
      ],
      "source": [
        "import pandas as pd\n",
        "import numpy as np\n",
        "import re\n",
        "!pip install emoji\n",
        "import emoji\n",
        "import nltk\n",
        "from nltk.tokenize import word_tokenize\n",
        "from nltk.corpus import stopwords\n",
        "from nltk.stem import WordNetLemmatizer\n",
        "from sklearn.model_selection import train_test_split\n",
        "from sklearn.feature_extraction.text import TfidfVectorizer\n",
        "from sklearn.linear_model import LogisticRegression\n",
        "from sklearn.ensemble import RandomForestClassifier\n",
        "from sklearn.metrics import accuracy_score, classification_report, confusion_matrix\n",
        "from sklearn.preprocessing import LabelEncoder\n",
        "from imblearn.over_sampling import SMOTE\n",
        "import nlpaug.augmenter.word as naw\n",
        "from transformers import AutoTokenizer, AutoModelForSequenceClassification, TrainingArguments, Trainer, DataCollatorWithPadding\n",
        "from datasets import Dataset\n",
        "import evaluate\n",
        "import matplotlib.pyplot as plt\n",
        "import seaborn as sns\n",
        "import torch\n",
        "nltk.download('punkt', quiet=True)\n",
        "nltk.download('stopwords', quiet=True)\n",
        "nltk.download('wordnet', quiet=True)\n"
      ]
    },
    {
      "cell_type": "markdown",
      "source": [
        "Since the dataset is stored in my Google Drive, I mounted the drive to access the data directly in the Colab environment."
      ],
      "metadata": {
        "id": "RPCDBykTsZMV"
      }
    },
    {
      "cell_type": "code",
      "source": [
        "from google.colab import drive\n",
        "drive.mount('/content/drive')"
      ],
      "metadata": {
        "id": "PLCS4n7k3JYV",
        "colab": {
          "base_uri": "https://localhost:8080/"
        },
        "outputId": "89bbecb6-20fa-472b-8cb0-6ae5c6ec60ee"
      },
      "execution_count": null,
      "outputs": [
        {
          "output_type": "stream",
          "name": "stdout",
          "text": [
            "Drive already mounted at /content/drive; to attempt to forcibly remount, call drive.mount(\"/content/drive\", force_remount=True).\n"
          ]
        }
      ]
    },
    {
      "cell_type": "markdown",
      "source": [
        "#Loading Dataset\n",
        " load the dataset into DataFrame using pandas and shows its shape. it contains 24,783 rows and 7 columns."
      ],
      "metadata": {
        "id": "HWEAM_B_3TGd"
      }
    },
    {
      "cell_type": "code",
      "source": [
        "df = pd.read_csv('/content/drive/MyDrive/data.csv')\n",
        "df.shape"
      ],
      "metadata": {
        "id": "GM6dun7C3RiD",
        "colab": {
          "base_uri": "https://localhost:8080/"
        },
        "outputId": "e7686a93-1989-4032-909b-1199bb75add9"
      },
      "execution_count": null,
      "outputs": [
        {
          "output_type": "execute_result",
          "data": {
            "text/plain": [
              "(24783, 7)"
            ]
          },
          "metadata": {},
          "execution_count": 35
        }
      ]
    },
    {
      "cell_type": "markdown",
      "source": [
        "#Preprocessing the Dataset\n",
        " Due to our task we keep only two columns: class and tweet.\n"
      ],
      "metadata": {
        "id": "mC58x7mG3mju"
      }
    },
    {
      "cell_type": "code",
      "source": [
        "df = df[['tweet', 'class']]\n"
      ],
      "metadata": {
        "id": "OXqLcSn73ifu"
      },
      "execution_count": null,
      "outputs": []
    },
    {
      "cell_type": "markdown",
      "source": [
        "## Dataset Overview\n",
        "\n",
        "Info let us see the structure of our dataset."
      ],
      "metadata": {
        "id": "xTFXdci7tHCz"
      }
    },
    {
      "cell_type": "code",
      "source": [
        "df.info()"
      ],
      "metadata": {
        "id": "9JQn8Llyz81D",
        "colab": {
          "base_uri": "https://localhost:8080/"
        },
        "outputId": "3d928b9a-e149-429d-9832-dfab1c5a9666"
      },
      "execution_count": null,
      "outputs": [
        {
          "output_type": "stream",
          "name": "stdout",
          "text": [
            "<class 'pandas.core.frame.DataFrame'>\n",
            "RangeIndex: 24783 entries, 0 to 24782\n",
            "Data columns (total 2 columns):\n",
            " #   Column  Non-Null Count  Dtype \n",
            "---  ------  --------------  ----- \n",
            " 0   tweet   24783 non-null  object\n",
            " 1   class   24783 non-null  int64 \n",
            "dtypes: int64(1), object(1)\n",
            "memory usage: 387.4+ KB\n"
          ]
        }
      ]
    },
    {
      "cell_type": "markdown",
      "source": [
        "## Unique Class Labels\n",
        "\n",
        "I checked the unique values in the `class` column To know the categories in it.\n"
      ],
      "metadata": {
        "id": "wzU7WHw4tiNU"
      }
    },
    {
      "cell_type": "code",
      "source": [
        "df['class'].unique()\n"
      ],
      "metadata": {
        "id": "SM8qFzMd4Djn",
        "colab": {
          "base_uri": "https://localhost:8080/"
        },
        "outputId": "cadd1758-7c8f-40c7-aa6a-9c7ade363e73"
      },
      "execution_count": null,
      "outputs": [
        {
          "output_type": "execute_result",
          "data": {
            "text/plain": [
              "array([2, 1, 0])"
            ]
          },
          "metadata": {},
          "execution_count": 38
        }
      ]
    },
    {
      "cell_type": "markdown",
      "source": [
        "#Label Mapping and Sentiment Encoding\n",
        "\n",
        "Map class to sentiment labels (hate_speech, offensive, neither) and encode for modeling."
      ],
      "metadata": {
        "id": "6x_pMOSk33BH"
      }
    },
    {
      "cell_type": "markdown",
      "source": [
        "In this dataset we have 3  original numeric score, to make the sentiment labels more suitable for machine learning models. I use a function to categorize them as \"hate_speech\",\"offensive\" and \"neither\".\n",
        "\n",
        "Our dataset was updated cleaned tweet text and the new encoded labels, ready for training and evaluation.\n",
        "\n",
        "\n",
        "\n"
      ],
      "metadata": {
        "id": "y18GBmtg4LoD"
      }
    },
    {
      "cell_type": "code",
      "source": [
        "def map_sentiment(score):\n",
        "    if score == 0:\n",
        "        return \"hate_speech\"\n",
        "    elif score == 1:\n",
        "        return \"offensive\"\n",
        "    else:  # score == 2\n",
        "        return \"neither\"\n",
        "\n",
        "df['sentiment'] = df['class'].apply(map_sentiment)\n",
        "label_encoder = LabelEncoder()\n",
        "df['labels'] = label_encoder.fit_transform(df['sentiment'])\n",
        "df = df[['tweet', 'labels']]\n",
        "print(\"Label Mapping:\", dict(zip(label_encoder.classes_, range(len(label_encoder.classes_)))))\n",
        "print(\"Original Sentiment Counts:\\n\", df['labels'].value_counts())\n"
      ],
      "metadata": {
        "id": "A3NKg5CwB1wY",
        "colab": {
          "base_uri": "https://localhost:8080/"
        },
        "outputId": "3a39e41a-b9a4-4cfa-ddc0-04ff87078bb5"
      },
      "execution_count": null,
      "outputs": [
        {
          "output_type": "stream",
          "name": "stdout",
          "text": [
            "Label Mapping: {'hate_speech': 0, 'neither': 1, 'offensive': 2}\n",
            "Original Sentiment Counts:\n",
            " labels\n",
            "2    19190\n",
            "1     4163\n",
            "0     1430\n",
            "Name: count, dtype: int64\n"
          ]
        }
      ]
    },
    {
      "cell_type": "markdown",
      "source": [
        "# Exploratory Data Analysis (EDA)"
      ],
      "metadata": {
        "id": "uza7vAnsD4yJ"
      }
    },
    {
      "cell_type": "markdown",
      "source": [
        "To understand better the structure of the dataset, i did two visualisation:\n",
        "\n"
      ],
      "metadata": {
        "id": "sUO0C2k7Ec98"
      }
    },
    {
      "cell_type": "markdown",
      "source": [
        "This bar plot shows the number of tweets labels.\n",
        "We can see that dataset is very imbalanced with lots of tweets labeled as \"Neither\".\n",
        "Imbalance class is important to be solved as it may effect our model performance, especially on the minority class. Techniques like SMOTE and data augmentation will be applied later to solve this problem.\n",
        "\n"
      ],
      "metadata": {
        "id": "8tqxX_uWDJOw"
      }
    },
    {
      "cell_type": "code",
      "source": [
        "plt.figure(figsize=(8, 4))\n",
        "sns.countplot(x='labels', data=df, hue='labels', palette='viridis', legend=False)\n",
        "plt.title('Sentiment Distribution')\n",
        "plt.xlabel('Sentiment (0: Hate Speech, 1: Offensive, 2: Neither)')\n",
        "plt.ylabel('Count')\n",
        "plt.xticks(ticks=[0, 1, 2], labels=['Hate Speech', 'Offensive', 'Neither'])\n",
        "plt.show()\n"
      ],
      "metadata": {
        "id": "mZwZo_PwGmxR",
        "colab": {
          "base_uri": "https://localhost:8080/",
          "height": 410
        },
        "outputId": "4c1d8a69-720c-49ea-af40-a33d5f98c53b"
      },
      "execution_count": null,
      "outputs": [
        {
          "output_type": "display_data",
          "data": {
            "text/plain": [
              "<Figure size 800x400 with 1 Axes>"
            ],
            "image/png": "[encoded data removed]"
          },
          "metadata": {}
        }
      ]
    },
    {
      "cell_type": "markdown",
      "source": [
        "The Histogram in the below shows how long the tweets takes in terms of character count. Most tweets are between 50 and 150 characters which is important for preprocessing decisions like setting tokenizer limits.\n",
        "\n",
        "knowing about text length also helps in optimizing model input parameters, especially for deep learning models like DistilBERT, which have input length limitations.\n"
      ],
      "metadata": {
        "id": "MXWGu1sxFGlV"
      }
    },
    {
      "cell_type": "code",
      "source": [
        "df['text_length'] = df['tweet'].str.len()\n",
        "plt.figure(figsize=(8, 4))\n",
        "sns.histplot(df['text_length'], bins=50, kde=True)\n",
        "plt.title('Tweet Length Distribution')\n",
        "plt.xlabel('Length (Characters)')\n",
        "plt.ylabel('Frequency')\n",
        "plt.show()\n"
      ],
      "metadata": {
        "id": "eRqkTCjODEgD",
        "colab": {
          "base_uri": "https://localhost:8080/",
          "height": 410
        },
        "outputId": "588c81a4-69ca-4cc3-ab39-08e5bc8442f8"
      },
      "execution_count": null,
      "outputs": [
        {
          "output_type": "display_data",
          "data": {
            "text/plain": [
              "<Figure size 800x400 with 1 Axes>"
            ],
            "image/png": "[encoded data removed]"
          },
          "metadata": {}
        }
      ]
    },
    {
      "cell_type": "markdown",
      "source": [
        "#Preprocessing Text\n",
        "\n",
        "Before training any models, it's important to clean the  text so the machine can understand it better because tweets always has noises like emojis, hashtags, links, and slang  that are not helpful for the model.\n",
        "\n",
        "Here’s process cleaning step-by-step:\n",
        "\n",
        "Turns emojis into text to not to lose their meaning.\n",
        "\n",
        "Removes noise like links, mentions, hashtags, and punctuation.\n",
        "\n",
        "Converts everything to lowercase to make the text consistent.\n",
        "\n",
        "Replaces slang and offensive terms with neutral words.\n",
        "\n",
        "Keeps important words like \"not\" and \"no\" because they are important and can change the meaning.\n",
        "\n",
        "Breaks the text into words and simplifies them.\n",
        "\n",
        "Filters very short or useless words that don’t help us.\n",
        "\n",
        "By doing this, we drop any rows that are empty and keep only the cleaned text and its label. This gives us a much better dataset for our machine learning models.\n"
      ],
      "metadata": {
        "id": "4QyMk-up0vm2"
      }
    },
    {
      "cell_type": "code",
      "source": [
        "stop_words = set(stopwords.words('english')) - {'not', 'no'}\n",
        "lemmatizer = WordNetLemmatizer()\n",
        "\n",
        "def preprocess_tweet(tweet):\n",
        "    tweet = emoji.demojize(tweet, delimiters=(\"\", \"\"))\n",
        "    tweet = re.sub(r'http\\S+|@[\\w]+|#\\w+|[^a-zA-Z\\s]', ' ', tweet)\n",
        "    tweet = tweet.lower().strip()\n",
        "    tweet = re.sub(r'\\b(lol+|lmao+|haha+)\\b', 'laugh', tweet)\n",
        "    tweet = re.sub(r'\\b(nic+a|nig+a)\\b', 'person', tweet)\n",
        "    tweet = re.sub(r'\\b(gon(na)?)\\b', 'going', tweet)\n",
        "    tweet = re.sub(r'\\b(wan(na)?)\\b', 'want', tweet)\n",
        "    tweet = re.sub(r'\\b(bitch|nigger|hoe|fag+)\\b', 'offensive_term', tweet)\n",
        "    tokens = word_tokenize(tweet)\n",
        "    tokens = [lemmatizer.lemmatize(token) for token in tokens if token not in stop_words and len(token) > 3]\n",
        "    return ' '.join(tokens)\n",
        "\n",
        "df['text'] = df['tweet'].apply(preprocess_tweet)\n",
        "df = df[df['text'] != '']\n",
        "df = df[['text', 'labels']]\n",
        "print(\"After Preprocessing Shape:\", df.shape)\n",
        "print(\"After Preprocessing:\", df.head())"
      ],
      "metadata": {
        "id": "AzBZPIpS1CTG",
        "colab": {
          "base_uri": "https://localhost:8080/"
        },
        "outputId": "c46e0349-da91-44a3-ad38-a7617255676c"
      },
      "execution_count": null,
      "outputs": [
        {
          "output_type": "stream",
          "name": "stdout",
          "text": [
            "After Preprocessing Shape: (24743, 2)\n",
            "After Preprocessing:\n",
            "                                                 text  labels\n",
            "0    woman complain cleaning house always take trash       1\n",
            "1          dat cold tyga cuffin offensive_term place       2\n",
            "2  dawg ever fuck offensive_term start confused shit       2\n",
            "3                                   look like tranny       2\n",
            "4  shit hear might true might faker offensive_ter...       2\n"
          ]
        }
      ]
    },
    {
      "cell_type": "markdown",
      "source": [
        "#Remove Duplicates\n",
        "To avoid biasing the model i checked and removed duplicates."
      ],
      "metadata": {
        "id": "Cx4R4rrrMGQZ"
      }
    },
    {
      "cell_type": "code",
      "source": [
        "df = df.drop_duplicates(subset=['text'])\n",
        "print(\"After Removing Duplicates Shape:\", df.shape)"
      ],
      "metadata": {
        "id": "aHhCnj78J1aq",
        "colab": {
          "base_uri": "https://localhost:8080/"
        },
        "outputId": "2bc0fab1-2d2c-40f8-ce82-4c0465881cd6"
      },
      "execution_count": null,
      "outputs": [
        {
          "output_type": "stream",
          "name": "stdout",
          "text": [
            "After Removing Duplicates Shape: (22928, 2)\n"
          ]
        }
      ]
    },
    {
      "cell_type": "markdown",
      "source": [
        "#Augmentation Methode for imbalance dataset\n",
        "\n",
        "i used Augmentation because data was imbalanced specially hate-speech was very few, by using synonym replacement to generate some examples for it to make the model more balanced  better performance for the model.\n"
      ],
      "metadata": {
        "id": "LWUZYs2qMnUy"
      }
    },
    {
      "cell_type": "code",
      "source": [
        "aug = naw.SynonymAug(aug_p=0.3)\n",
        "hate_speech_df = df[df['labels'] == 0]\n",
        "augmented_texts = []\n",
        "for _ in range(2):\n",
        "    augmented_texts.extend(hate_speech_df['text'].apply(lambda x: aug.augment(x)[0]))\n",
        "augmented_df = pd.DataFrame({'text': augmented_texts, 'labels': 0})\n",
        "df = pd.concat([df, augmented_df], ignore_index=True)\n",
        "print(\"New Dataset Shape:\", df.shape)\n",
        "print(\"New Sentiment Counts:\\n\", df['labels'].value_counts())\n"
      ],
      "metadata": {
        "id": "K-YIE5cgJ5Tr",
        "colab": {
          "base_uri": "https://localhost:8080/"
        },
        "outputId": "bf2ec043-6acd-464b-d945-23493a492f11"
      },
      "execution_count": null,
      "outputs": [
        {
          "output_type": "stream",
          "name": "stdout",
          "text": [
            "New Dataset Shape: (25544, 2)\n",
            "New Sentiment Counts:\n",
            " labels\n",
            "2    17647\n",
            "1     3973\n",
            "0     3924\n",
            "Name: count, dtype: int64\n"
          ]
        }
      ]
    },
    {
      "cell_type": "markdown",
      "source": [
        "#Data Splitting\n",
        "\n",
        "\n",
        "To have a better evaluation, I split data into 3 parts: training (70%), validation (15%), and test (15%) sets. while making sure each split keeps the original class distribution.\n",
        "\n",
        "The training set is used to teach the model.\n",
        "\n",
        "The validation set helps fine tune and evaluate different models and hyperparameters during development.\n",
        "\n",
        "The test set is not even touched until the final evaluation to measure of best model performance.\n",
        "\n",
        "I made sure the class distribution stays the same across all sets by using stratify."
      ],
      "metadata": {
        "id": "kIi09-jWAild"
      }
    },
    {
      "cell_type": "code",
      "source": [
        "X = df['text']\n",
        "y = df['labels']\n",
        "X_train, X_temp, y_train, y_temp = train_test_split(X, y, test_size=0.3, stratify=y, random_state=42)\n",
        "X_val, X_test, y_val, y_test = train_test_split(X_temp, y_temp, test_size=0.5, stratify=y_temp, random_state=42)\n",
        "print(\"Train Shape:\", (len(X_train), 2), \"Val Shape:\", (len(X_val), 2), \"Test Shape:\", (len(X_test), 2))\n",
        "print(\"Train Class Distribution:\\n\", pd.Series(y_train).value_counts())\n",
        "print(\"Val Class Distribution:\\n\", pd.Series(y_val).value_counts())\n",
        "print(\"Test Class Distribution:\\n\", pd.Series(y_test).value_counts())"
      ],
      "metadata": {
        "id": "RZLaLEoVKDyh",
        "colab": {
          "base_uri": "https://localhost:8080/"
        },
        "outputId": "b781fc60-74a1-4857-f531-d54318470f64"
      },
      "execution_count": null,
      "outputs": [
        {
          "output_type": "stream",
          "name": "stdout",
          "text": [
            "Train Shape: (17880, 2) Val Shape: (3832, 2) Test Shape: (3832, 2)\n",
            "Train Class Distribution:\n",
            " labels\n",
            "2    12352\n",
            "1     2781\n",
            "0     2747\n",
            "Name: count, dtype: int64\n",
            "Val Class Distribution:\n",
            " labels\n",
            "2    2648\n",
            "1     596\n",
            "0     588\n",
            "Name: count, dtype: int64\n",
            "Test Class Distribution:\n",
            " labels\n",
            "2    2647\n",
            "1     596\n",
            "0     589\n",
            "Name: count, dtype: int64\n"
          ]
        }
      ]
    },
    {
      "cell_type": "markdown",
      "source": [
        "#Text Vectorization with TF-IDF\n",
        "\n",
        "Since machine learning models can’t work with raw text, I used TF-IDF to convert tweets into numbers and make it suitable for traditional machine learning models.\n",
        "\n",
        "TF stands for Term Frequency that Counts how many times a word appears in a document.\n",
        "\n",
        "IDF: Reduces the weight of  common words that appear in documents.\n",
        "\n",
        "min_df: Ignores rare words to reduce noise.\n",
        "\n",
        "TfidfVectorizer keep only the 10,000 most important words or n-grams from our dataset.\n",
        "\n",
        "This allows our traditional model which are Logistic regression and random forests learn better from the text data.\n",
        "\n",
        "\n"
      ],
      "metadata": {
        "id": "ro6YFC86GMKo"
      }
    },
    {
      "cell_type": "code",
      "source": [
        "vectorizer = TfidfVectorizer(max_features=10000, min_df=2, ngram_range=(1, 2))\n",
        "X_train_tfidf = vectorizer.fit_transform(X_train)\n",
        "X_val_tfidf = vectorizer.transform(X_val)\n",
        "X_test_tfidf = vectorizer.transform(X_test)\n",
        "print(\"TF-IDF Shapes:\", X_train_tfidf.shape, X_val_tfidf.shape, X_test_tfidf.shape)"
      ],
      "metadata": {
        "id": "V2EWSnZxHaQQ",
        "colab": {
          "base_uri": "https://localhost:8080/"
        },
        "outputId": "30c719e2-1646-43b3-b581-6a76973afb2b"
      },
      "execution_count": null,
      "outputs": [
        {
          "output_type": "stream",
          "name": "stdout",
          "text": [
            "TF-IDF Shapes: (17880, 10000) (3832, 10000) (3832, 10000)\n"
          ]
        }
      ]
    },
    {
      "cell_type": "markdown",
      "source": [
        "#Using SMOTE\n",
        "I applied SMOTE for solving class imbalance. This  creates examples of the smaller class to have a balanced dataset for training, which helps the model better learn.\n",
        "This method makes sure that training data is balanced by all three classes (hate speech, offensive, neither). The validation and test sets stays untouched so the evaluation will be fair realistic."
      ],
      "metadata": {
        "id": "4Ey7ClQKlbHN"
      }
    },
    {
      "cell_type": "code",
      "source": [
        "smote = SMOTE(random_state=42)\n",
        "X_train_tfidf_smote, y_train_smote = smote.fit_resample(X_train_tfidf, y_train)\n",
        "print(\"SMOTE Train Shape:\", X_train_tfidf_smote.shape)\n",
        "print(\"SMOTE Train Class Distribution:\\n\", pd.Series(y_train_smote).value_counts())"
      ],
      "metadata": {
        "id": "qT3LYsl_L0K7",
        "colab": {
          "base_uri": "https://localhost:8080/"
        },
        "outputId": "b3ab80ba-83a9-4763-9e4b-ecca3c19411e"
      },
      "execution_count": null,
      "outputs": [
        {
          "output_type": "stream",
          "name": "stdout",
          "text": [
            "SMOTE Train Shape: (37056, 10000)\n",
            "SMOTE Train Class Distribution:\n",
            " labels\n",
            "0    12352\n",
            "1    12352\n",
            "2    12352\n",
            "Name: count, dtype: int64\n"
          ]
        }
      ]
    },
    {
      "cell_type": "markdown",
      "source": [
        "# 10. Traditional Machine Learning\n",
        "\n"
      ],
      "metadata": {
        "id": "5EukG-6G4WNu"
      }
    },
    {
      "cell_type": "markdown",
      "source": [
        "#Random Forest Classifier"
      ],
      "metadata": {
        "id": "HpLEaARM8NwL"
      }
    },
    {
      "cell_type": "markdown",
      "source": [
        "\n",
        "In this step, I trained a Random Forest classifier using a grid search to tune it with optimizing different parameters.. I used some  values  parameters such as:\n",
        "Number of trees (n_estimators)\n",
        "\n",
        "Maximum tree depth (max_depth)\n",
        "\n",
        "Minimum number of samples required at a leaf node (min_samples_leaf)\n",
        "\n",
        "Splitting criterion (gini or entropy)\n",
        "\n",
        "I applied 5-fold cross validation that means the training data was split into 5 parts. The model was trained on 4 parts and validated on the 5th it is rotating each time that help better evaluation.\n",
        "\n",
        "After finding the best parameter, I used the RF to predict on the validation set, and checked its accuracy. Then, I tested the model on the test set, which was never seen during training or tuning. This showed how well the model can generalize on unseen data."
      ],
      "metadata": {
        "id": "0r5j1ft2AgZP"
      }
    },
    {
      "cell_type": "code",
      "source": [
        "from sklearn.ensemble import RandomForestClassifier\n",
        "from sklearn.model_selection import GridSearchCV\n",
        "from sklearn.metrics import accuracy_score, classification_report\n",
        "target_names = ['hate_speech', 'offensive', 'neither']\n",
        "\n",
        "rf_param_grid = {'n_estimators': [100, 200],'max_depth': [10, 20],'min_samples_leaf': [1, 2],'criterion': ['gini', 'entropy']}\n",
        "rf_grid = GridSearchCV(RandomForestClassifier(random_state=42), rf_param_grid, scoring='accuracy', cv=5, n_jobs=-1)\n",
        "rf_grid.fit(X_train_tfidf_smote, y_train_smote)\n",
        "rf_best = rf_grid.best_estimator_\n",
        "val_preds_rf = rf_best.predict(X_val_tfidf)\n",
        "\n",
        "print(\"Best Params RF:\", rf_grid.best_params_)\n",
        "print(\"Validation Accuracy:\", accuracy_score(y_val, val_preds_rf))\n",
        "print(\"Validation Report:\\n\", classification_report(y_val, val_preds_rf, target_names=target_names))\n",
        "\n",
        "test_preds_rf = rf_best.predict(X_test_tfidf)\n",
        "\n",
        "print(\"Test Accuracy:\", accuracy_score(y_test, test_preds_rf))\n",
        "print(\"Test Report:\\n\", classification_report(y_test, test_preds_rf, target_names=target_names))\n"
      ],
      "metadata": {
        "id": "CUW5lw2pui_g",
        "colab": {
          "base_uri": "https://localhost:8080/"
        },
        "outputId": "5f57122f-dbdd-4a4f-eff4-6d16e9e9d120"
      },
      "execution_count": null,
      "outputs": [
        {
          "output_type": "stream",
          "name": "stdout",
          "text": [
            "Best Params RF: {'criterion': 'entropy', 'max_depth': 20, 'min_samples_leaf': 1, 'n_estimators': 200}\n",
            "Validation Accuracy: 0.8288100208768268\n",
            "Validation Report:\n",
            "               precision    recall  f1-score   support\n",
            "\n",
            " hate_speech       0.67      0.50      0.57       588\n",
            "   offensive       0.65      0.90      0.76       596\n",
            "     neither       0.91      0.89      0.90      2648\n",
            "\n",
            "    accuracy                           0.83      3832\n",
            "   macro avg       0.74      0.76      0.74      3832\n",
            "weighted avg       0.83      0.83      0.83      3832\n",
            "\n",
            "Test Accuracy: 0.8201983298538622\n",
            "Test Report:\n",
            "               precision    recall  f1-score   support\n",
            "\n",
            " hate_speech       0.65      0.47      0.55       589\n",
            "   offensive       0.65      0.91      0.76       596\n",
            "     neither       0.91      0.88      0.89      2647\n",
            "\n",
            "    accuracy                           0.82      3832\n",
            "   macro avg       0.73      0.75      0.73      3832\n",
            "weighted avg       0.83      0.82      0.82      3832\n",
            "\n"
          ]
        }
      ]
    },
    {
      "cell_type": "markdown",
      "source": [
        "We can see that best parameters were 200 trees, max depth 20, and entropy as the splitting rule.\n",
        "\n",
        "On the validation set, the model got 82.9% accuracy and performed best on the \"neither\" class.\n",
        "\n",
        "The test accuracy was 82%, showing decent generalization. Overall, it is not great at catching hate speech which is where a deep learning model like DistilBERT can do better.\n"
      ],
      "metadata": {
        "id": "enNGvwiRVjpX"
      }
    },
    {
      "cell_type": "markdown",
      "source": [
        "# Logistic Regression Classifier"
      ],
      "metadata": {
        "id": "-Au-XldFHSna"
      }
    },
    {
      "cell_type": "markdown",
      "source": [
        "I used Logistic Regression as one of the baseline models and applied GridSearchCV to find the best hyperparameters for improve performance.\n",
        "I used 5-fold cross-validation on the training set to evaluate all hyperparameter combinations:\n",
        " The model was trained on the SMOTE-balanced training set, validated on a hold-out validation set, and finally tested on unseen data."
      ],
      "metadata": {
        "id": "mpOoVaxYtBxs"
      }
    },
    {
      "cell_type": "code",
      "source": [
        "from sklearn.linear_model import LogisticRegression\n",
        "from sklearn.model_selection import GridSearchCV\n",
        "from sklearn.metrics import accuracy_score, classification_report\n",
        "\n",
        "parameters_grid = { \"criterion\": [\"gini\", \"entropy\"],\"n_estimators\": [200,250], \"max_depth\": [10, 20],\"min_samples_leaf\": [2,4],}\n",
        "param_grid = {'C': [0.1, 1, 10], 'penalty': ['l2'],'solver': ['lbfgs'], 'class_weight': ['balanced', None]}\n",
        "grid_search_lr = GridSearchCV(LogisticRegression(max_iter=1000), param_grid,\n",
        "    cv=5,scoring='accuracy',n_jobs=-1)\n",
        "\n",
        "grid_search_lr.fit(X_train_tfidf_smote, y_train_smote)\n",
        "best_lr_model = grid_search_lr.best_estimator_\n",
        "val_preds = best_lr_model.predict(X_val_tfidf)\n",
        "\n",
        "print(\" Validation Accuracy:\", accuracy_score(y_val, val_preds))\n",
        "print(\" Validation Report:\\n\", classification_report(y_val, val_preds, target_names=target_names))\n",
        "test_preds = best_lr_model.predict(X_test_tfidf)\n",
        "print(\" Test Accuracy:\", accuracy_score(y_test, test_preds))\n",
        "print(\" Test Report:\\n\", classification_report(y_test, test_preds, target_names=target_names))\n"
      ],
      "metadata": {
        "id": "hjJimNEATOp6",
        "colab": {
          "base_uri": "https://localhost:8080/"
        },
        "outputId": "ace95d65-2a73-48dc-9b54-172703769c81"
      },
      "execution_count": null,
      "outputs": [
        {
          "output_type": "stream",
          "name": "stdout",
          "text": [
            " Validation Accuracy: 0.8619519832985386\n",
            " Validation Report:\n",
            "               precision    recall  f1-score   support\n",
            "\n",
            " hate_speech       0.69      0.76      0.72       588\n",
            "   offensive       0.78      0.84      0.81       596\n",
            "     neither       0.93      0.89      0.91      2648\n",
            "\n",
            "    accuracy                           0.86      3832\n",
            "   macro avg       0.80      0.83      0.81      3832\n",
            "weighted avg       0.87      0.86      0.86      3832\n",
            "\n",
            " Test Accuracy: 0.8483820459290188\n",
            " Test Report:\n",
            "               precision    recall  f1-score   support\n",
            "\n",
            " hate_speech       0.64      0.71      0.68       589\n",
            "   offensive       0.78      0.86      0.82       596\n",
            "     neither       0.92      0.88      0.90      2647\n",
            "\n",
            "    accuracy                           0.85      3832\n",
            "   macro avg       0.78      0.82      0.80      3832\n",
            "weighted avg       0.85      0.85      0.85      3832\n",
            "\n"
          ]
        }
      ]
    },
    {
      "cell_type": "markdown",
      "source": [
        "As it is clear LR model got 86.1% accuracy on the validation set and 84.8% on the test set.\n",
        "\n",
        "It performed well overall, especially on the \"neither\" and \"offensive\" classes. The \"hate speech\" class had lower precision. It is better than Random Forest and was more balanced across all three classes."
      ],
      "metadata": {
        "id": "y5edR_SzSgn5"
      }
    },
    {
      "cell_type": "markdown",
      "source": [
        "#Deep Learning Approach\n"
      ],
      "metadata": {
        "id": "mHptTplA4jLs"
      }
    },
    {
      "cell_type": "markdown",
      "source": [
        "#Training DistilBERT"
      ],
      "metadata": {
        "id": "3yqqNkyn4_UK"
      }
    },
    {
      "cell_type": "markdown",
      "source": [
        "###Tokenize Text with DistilBERT"
      ],
      "metadata": {
        "id": "XdJ5KXjRa3sh"
      }
    },
    {
      "cell_type": "markdown",
      "source": [
        "To use DistilBERT, I needed to convert the text into a format it can understand. I used Hugging Face’s AutoTokenizer with the \"distilbert-base-uncased\" model.\n",
        "\n",
        "The tokenizer handles:\n",
        "\n",
        "Lowercasing all text (since it’s uncased),\n",
        "\n",
        "Breaking sentences into word pieces (called tokens),\n",
        "\n",
        "Padding and truncating the text so everything is the same length (max 128).\n",
        "\n",
        "Then, I created three dataframes: one for training, one for validation, and one for testing. Each one had two columns: text and labels.\n",
        "\n",
        "After that, I converted these into Hugging Face Dataset objects and applied the tokenizer using .map() with batched=True. This step is important because the Hugging Face Trainer works with their own dataset format, not just pandas.\n",
        "\n",
        "This setup made the data ready to the DistilBERT model for better tuning.\n",
        "\n"
      ],
      "metadata": {
        "id": "-_jskA8KbYVO"
      }
    },
    {
      "cell_type": "code",
      "source": [
        "model_name = \"distilbert-base-uncased\"\n",
        "tokenizer = AutoTokenizer.from_pretrained(model_name)\n",
        "data_collator = DataCollatorWithPadding(tokenizer=tokenizer)\n",
        "\n",
        "def preprocess_function(examples):\n",
        "    return tokenizer(examples[\"text\"], truncation=True, padding=True, max_length=128)\n",
        "\n",
        "train_df = pd.DataFrame({'text': X_train, 'labels': y_train})\n",
        "val_df   = pd.DataFrame({'text': X_val, 'labels': y_val})\n",
        "test_df  = pd.DataFrame({'text': X_test, 'labels': y_test})\n",
        "train_dataset = Dataset.from_pandas(train_df).map(preprocess_function, batched=True)\n",
        "val_dataset   = Dataset.from_pandas(val_df).map(preprocess_function, batched=True)\n",
        "test_dataset  = Dataset.from_pandas(test_df).map(preprocess_function, batched=True)\n"
      ],
      "metadata": {
        "id": "6HAgZ8o0a08x",
        "colab": {
          "base_uri": "https://localhost:8080/",
          "height": 113,
          "referenced_widgets": [
            "6a9460a445424eebbee326f5940abc04",
            "b745dcfef9494c14a2ee6803ad0e3159",
            "6ab9e8cacd64402b8e87a2d9868f6be6",
            "b151c3f2139f438e8141a92221ee1d25",
            "cfb63d943075494d8dc974fb6b314056",
            "9182496e733342d0b566b12ebede15d0",
            "406b62c6ccb34c3194d9efe7f6b3066c",
            "11c662f7477b4191acde7deb34de8890",
            "b7b6e8efa77d4595b9ee5ee7214887ff",
            "92e31f6c50144234a31983c16ee71979",
            "7365b8ddfffe4a578642d155b4dafb02",
            "7e1dab20f656407e89b601e11b8ffda8",
            "67d8a4511f564c17947a9ebe8c991a31",
            "6fe31370eaf34968aac0d820e2c1a079",
            "d506da9a2f6f469f8c0edd58feca557c",
            "e5a6b69d37e343d78f330c4024c407a1",
            "c57e04656489493ea7329551aa3277ba",
            "4c4d1da4ae784e0bbf29c9169d5e2061",
            "8ed152a85aa54e04a78c166ba265b6cd",
            "c08b2dd5399a4c2da84d60e6cef0bdbc",
            "71d19be9a60542adb003bf3a89163df4",
            "edae7b904c23454c899ca870e3345506",
            "4411c78e3ff740948f514584f0fe32ab",
            "df9ed93341134ce4b8c4d406119425b2",
            "1cc10dccb2b449f8a528d7658a66dd6d",
            "e6d9eaa6ad5c47f8ba58302ec7e75dfb",
            "798f42da55d64057a18a4530d1d78362",
            "760f8a91856c4f798445a1c98859e191",
            "b0242c7478b342228fcb26bddd1bbb6c",
            "48580970fb8a43a18d2143e19d74f435",
            "531771e51b8449db9d728aa6efb9bf91",
            "ac30c5a7ae7e4967b69c1bb61331dff5",
            "7caa7be7c8bc481e9cf99492c7e2d411"
          ]
        },
        "outputId": "334af6bf-6b17-4625-fe6e-85f436185869"
      },
      "execution_count": null,
      "outputs": [
        {
          "output_type": "display_data",
          "data": {
            "text/plain": [
              "Map:   0%|          | 0/17880 [00:00<?, ? examples/s]"
            ],
            "application/vnd.jupyter.widget-view+json": {
              "version_major": 2,
              "version_minor": 0,
              "model_id": "6a9460a445424eebbee326f5940abc04"
            }
          },
          "metadata": {}
        },
        {
          "output_type": "display_data",
          "data": {
            "text/plain": [
              "Map:   0%|          | 0/3832 [00:00<?, ? examples/s]"
            ],
            "application/vnd.jupyter.widget-view+json": {
              "version_major": 2,
              "version_minor": 0,
              "model_id": "7e1dab20f656407e89b601e11b8ffda8"
            }
          },
          "metadata": {}
        },
        {
          "output_type": "display_data",
          "data": {
            "text/plain": [
              "Map:   0%|          | 0/3832 [00:00<?, ? examples/s]"
            ],
            "application/vnd.jupyter.widget-view+json": {
              "version_major": 2,
              "version_minor": 0,
              "model_id": "4411c78e3ff740948f514584f0fe32ab"
            }
          },
          "metadata": {}
        }
      ]
    },
    {
      "cell_type": "markdown",
      "source": [
        "###Setting Up DistilBERT for Training\n"
      ],
      "metadata": {
        "id": "B_6VB_jkbrI2"
      }
    },
    {
      "cell_type": "markdown",
      "source": [
        "Before training the model, I loaded Hugging Face’s built-in accuracy metric to measure how well the model performs during evaluation. I also created a simple function that takes the model’s raw outputs (logits) that picks the class with the highest score and compares it to the true label to know accuracy.\n",
        "\n",
        "Then I loaded the pre trained DistilBERT model for classification and set it up to classify between 3 labels: hate speech, offensive, and neither.\n",
        "\n",
        "For training, I defined all the hyperparameters using the TrainingArguments class:\n",
        "\n",
        "I set the learning rate to 2e-5, which is usually good for fine-tuning transformers.\n",
        "\n",
        "Used a batch size of 16 for both training and evaluation.\n",
        "\n",
        "Set the training to run for 8 full epochs.\n",
        "\n",
        "Enabled weight decay (0.01) for prevent overfitting.\n",
        "\n",
        "Used eval_strategy=\"epoch\" to check model performance at the end of each epoch.\n",
        "\n",
        "Enabled load best model at end=True to keeps the version with the best accuracy.\n",
        "\n",
        "Turned on fp16 for faster training if available.\n",
        "\n",
        "Limited the number of saved checkpoints to 1 to save space.\n",
        "\n",
        "Disabled logging to WandB or other external platforms.\n",
        "\n",
        "This setup makes sure that the model is trained properly and automatically keeps the best performing version based on validation accuracy."
      ],
      "metadata": {
        "id": "v0mBBpgCcVtc"
      }
    },
    {
      "cell_type": "code",
      "source": [
        "metric = evaluate.load(\"accuracy\")\n",
        "\n",
        "def compute_metrics(eval_pred):\n",
        "    logits, labels = eval_pred\n",
        "    predictions = np.argmax(logits, axis=-1)\n",
        "    return metric.compute(predictions=predictions, references=labels)\n",
        "from transformers import AutoModelForSequenceClassification\n",
        "\n",
        "model_name = \"distilbert-base-uncased\"\n",
        "model = AutoModelForSequenceClassification.from_pretrained(model_name, num_labels=3)\n",
        "training_args = TrainingArguments(\n",
        "    output_dir=\"./results\",\n",
        "    run_name=\"hate_speech_classification\",\n",
        "    learning_rate=2e-5,\n",
        "    per_device_train_batch_size=16,\n",
        "    per_device_eval_batch_size=16,\n",
        "    num_train_epochs=8,\n",
        "    weight_decay=0.01,\n",
        "    eval_strategy=\"epoch\",\n",
        "    save_strategy=\"epoch\",\n",
        "    load_best_model_at_end=True,\n",
        "    metric_for_best_model=\"accuracy\",\n",
        "    fp16=True,\n",
        "    save_total_limit=1,\n",
        "    report_to=\"none\"\n",
        ")"
      ],
      "metadata": {
        "id": "j17admc-b0KF",
        "colab": {
          "base_uri": "https://localhost:8080/"
        },
        "outputId": "5b5837d9-4eb6-40e0-91d8-9ef2d3794958"
      },
      "execution_count": null,
      "outputs": [
        {
          "output_type": "stream",
          "name": "stderr",
          "text": [
            "Some weights of DistilBertForSequenceClassification were not initialized from the model checkpoint at distilbert-base-uncased and are newly initialized: ['classifier.bias', 'classifier.weight', 'pre_classifier.bias', 'pre_classifier.weight']\n",
            "You should probably TRAIN this model on a down-stream task to be able to use it for predictions and inference.\n"
          ]
        }
      ]
    },
    {
      "cell_type": "markdown",
      "source": [
        "###Train the DistilBERT Model"
      ],
      "metadata": {
        "id": "IONcpIRwcZs1"
      }
    },
    {
      "cell_type": "markdown",
      "source": [
        "I used Hugging Face’s Trainer to train the DistilBERT model because it makes the whole process easier and takes care of training, evaluation, and saving the model automatically.\n",
        "\n",
        "I just had to give it the model, the training settings, the datasets, a padding helper, and a small function to calculate accuracy. It trained the model for 8 rounds (epochs) and checked how well it was doing on the validation set after each one."
      ],
      "metadata": {
        "id": "9uURkRMLcbVK"
      }
    },
    {
      "cell_type": "code",
      "source": [
        "trainer = Trainer(\n",
        "    model=model,\n",
        "    args=training_args,\n",
        "    train_dataset=train_dataset,\n",
        "    eval_dataset=val_dataset,\n",
        "    data_collator=data_collator,\n",
        "    compute_metrics=compute_metrics\n",
        ")\n",
        "trainer.train()\n",
        "trainer.save_model(\"./results/distilbert\")\n",
        "print(\"✅ DistilBERT Training Completed!\")\n"
      ],
      "metadata": {
        "id": "LBaYERrWcd0Y",
        "colab": {
          "base_uri": "https://localhost:8080/",
          "height": 344
        },
        "outputId": "ef96c76b-9ca5-4c59-c7c6-6e214d1e66f9"
      },
      "execution_count": null,
      "outputs": [
        {
          "output_type": "display_data",
          "data": {
            "text/plain": [
              "<IPython.core.display.HTML object>"
            ],
            "text/html": [
              "\n",
              "    <div>\n",
              "      \n",
              "      <progress value='8944' max='8944' style='width:300px; height:20px; vertical-align: middle;'></progress>\n",
              "      [8944/8944 11:11, Epoch 8/8]\n",
              "    </div>\n",
              "    <table border=\"1\" class=\"dataframe\">\n",
              "  <thead>\n",
              " <tr style=\"text-align: left;\">\n",
              "      <th>Epoch</th>\n",
              "      <th>Training Loss</th>\n",
              "      <th>Validation Loss</th>\n",
              "      <th>Accuracy</th>\n",
              "    </tr>\n",
              "  </thead>\n",
              "  <tbody>\n",
              "    <tr>\n",
              "      <td>1</td>\n",
              "      <td>0.101600</td>\n",
              "      <td>0.660755</td>\n",
              "      <td>0.874478</td>\n",
              "    </tr>\n",
              "    <tr>\n",
              "      <td>2</td>\n",
              "      <td>0.060900</td>\n",
              "      <td>0.819758</td>\n",
              "      <td>0.885177</td>\n",
              "    </tr>\n",
              "    <tr>\n",
              "      <td>3</td>\n",
              "      <td>0.034000</td>\n",
              "      <td>0.763511</td>\n",
              "      <td>0.886743</td>\n",
              "    </tr>\n",
              "    <tr>\n",
              "      <td>4</td>\n",
              "      <td>0.028300</td>\n",
              "      <td>0.763005</td>\n",
              "      <td>0.900835</td>\n",
              "    </tr>\n",
              "    <tr>\n",
              "      <td>5</td>\n",
              "      <td>0.020100</td>\n",
              "      <td>0.868518</td>\n",
              "      <td>0.891180</td>\n",
              "    </tr>\n",
              "    <tr>\n",
              "      <td>6</td>\n",
              "      <td>0.022400</td>\n",
              "      <td>0.864188</td>\n",
              "      <td>0.893528</td>\n",
              "    </tr>\n",
              "    <tr>\n",
              "      <td>7</td>\n",
              "      <td>0.011200</td>\n",
              "      <td>0.867939</td>\n",
              "      <td>0.900835</td>\n",
              "    </tr>\n",
              "    <tr>\n",
              "      <td>8</td>\n",
              "      <td>0.005800</td>\n",
              "      <td>0.873228</td>\n",
              "      <td>0.901879</td>\n",
              "    </tr>\n",
              "  </tbody>\n",
              "</table><p>"
            ]
          },
          "metadata": {}
        },
        {
          "output_type": "stream",
          "name": "stdout",
          "text": [
            "✅ DistilBERT Training Completed!\n"
          ]
        }
      ]
    },
    {
      "cell_type": "markdown",
      "source": [
        "It is now clear that the  accuracy on the validation set is increasing with each epoch. at the end which is  8th epoch, it could get 90.2% accuracy, which was the best result.\n",
        "\n",
        "The training loss was falling down and it shows that the model was learning well. Although the validation loss was going ups and downs and not constant, the accuracy stayed strong that means the model wasn’t overfitting and was generalizing well."
      ],
      "metadata": {
        "id": "6BGgvHTea4F0"
      }
    },
    {
      "cell_type": "markdown",
      "source": [
        "#Evaluation\n"
      ],
      "metadata": {
        "id": "OocG9PAP5FO_"
      }
    },
    {
      "cell_type": "markdown",
      "source": [
        "After training, I tested the DistilBERT model on the unseen data test set to check how well it really works.\n",
        "\n",
        "I used the Trainer's .predict() method to get the model’s predictions and then compared them to the actual labels using accuracy and a classification report.\n",
        "\n",
        "This gave me how the model did work on each 3 classes, showing precision, recall, and F1-scores. It confirms that the model was performing well and not just memorizing the training data."
      ],
      "metadata": {
        "id": "73VpRnpyovAh"
      }
    },
    {
      "cell_type": "code",
      "source": [
        "\n",
        "unique_classes = np.unique(y_test)\n",
        "target_names = [label_encoder.inverse_transform([i])[0] for i in unique_classes]\n",
        "label_encoder = LabelEncoder()\n",
        "label_encoder.fit(['hate_speech', 'offensive', 'neither'])\n",
        "test_predictions = trainer.predict(test_dataset)\n",
        "y_pred_test_bert = np.argmax(test_predictions.predictions, axis=-1)\n",
        "print(\"Test Accuracy (DistilBERT):\", accuracy_score(y_test, y_pred_test_bert))\n",
        "print(\"Test Report (DistilBERT):\")\n",
        "print(classification_report(y_test, y_pred_test_bert, target_names=target_names, labels=unique_classes))\n"
      ],
      "metadata": {
        "id": "hPeEMXdP5JVg",
        "colab": {
          "base_uri": "https://localhost:8080/",
          "height": 235
        },
        "outputId": "bcc6cbdd-63dc-4e10-88d3-545ee9b826b9"
      },
      "execution_count": null,
      "outputs": [
        {
          "output_type": "display_data",
          "data": {
            "text/plain": [
              "<IPython.core.display.HTML object>"
            ],
            "text/html": []
          },
          "metadata": {}
        },
        {
          "output_type": "stream",
          "name": "stdout",
          "text": [
            "Test Accuracy (DistilBERT): 0.9008350730688935\n",
            "Test Report (DistilBERT):\n",
            "              precision    recall  f1-score   support\n",
            "\n",
            " hate_speech       0.84      0.77      0.80       589\n",
            "     neither       0.85      0.84      0.84       596\n",
            "   offensive       0.92      0.95      0.93      2647\n",
            "\n",
            "    accuracy                           0.90      3832\n",
            "   macro avg       0.87      0.85      0.86      3832\n",
            "weighted avg       0.90      0.90      0.90      3832\n",
            "\n"
          ]
        }
      ]
    },
    {
      "cell_type": "markdown",
      "source": [
        "We got 90.08% accuracy in our DistilBERT model on the test set which is the best between all other models I used here.\n",
        "\n",
        "It performed well on the offensive class wwith precision 0.92 and recall 0.95. For hate speech class we could get F1-score of 0.80 which is a much better in comparison with traditional models.\n",
        "\n",
        "This shows the model is balanced and consistent across our 3 classes that means it can be trusted to handle real-world moderation tasks effectively.\n"
      ],
      "metadata": {
        "id": "033Ba8lFjrg5"
      }
    },
    {
      "cell_type": "markdown",
      "source": [
        "### Confusion Matrix\n",
        "\n",
        "For better understanding how the DistilBERT model performs on each class, We can see the confusion matrix below.\n",
        "The X-axis shows the predicted classes, and the Y-axis shows the actual ones. The color and numbers shows where the model is getting things right  or confusing one class for another.\n",
        "\n",
        "It shows that most predictions were correct,\n",
        "especially for the offensive and neither classes. There were still some misclassifications between hate speech and offensive, but overall the matrix confirms that the model handles the task well and doesn’t confuse the classes too often."
      ],
      "metadata": {
        "id": "c3QsjOjfwMnz"
      }
    },
    {
      "cell_type": "code",
      "source": [
        "from sklearn.metrics import confusion_matrix\n",
        "import seaborn as sns\n",
        "import matplotlib.pyplot as plt\n",
        "\n",
        "plt.figure(figsize=(6, 5))\n",
        "sns.heatmap(confusion_matrix(y_test, y_pred_test_bert), annot=True, fmt='d',\n",
        "            cmap='Blues', xticklabels=target_names, yticklabels=target_names)\n",
        "plt.title('Confusion Matrix - DistilBERT')\n",
        "plt.xlabel('Predicted')\n",
        "plt.ylabel('True')\n",
        "plt.savefig('confusion_matrix.png')\n",
        "plt.show()\n"
      ],
      "metadata": {
        "id": "MhmSwolKwDkf",
        "colab": {
          "base_uri": "https://localhost:8080/",
          "height": 487
        },
        "outputId": "0e089e37-7d93-4c82-bd84-d73233de53dc"
      },
      "execution_count": null,
      "outputs": [
        {
          "output_type": "display_data",
          "data": {
            "text/plain": [
              "<Figure size 600x500 with 2 Axes>"
            ],
            "image/png": "[encoded data removed]"
          },
          "metadata": {}
        }
      ]
    },
    {
      "cell_type": "markdown",
      "source": [
        "## Conclusion\n",
        "My Project is focused on detecting hate speech and offensive content in tweets using traditional and deep learning models.\n",
        "\n",
        "Traditional models we used are Logistic Regression and Random Forest that could get accuracy (around 82–85%). While, deep learning by DistilBERT and hyper paramethers could get a strong 90.08% test accuracy which is almost 5% higher and better precision and recall, it shows it v is ery reliable and can be use for future with new dataset.\n",
        "\n",
        "I also used SMOTE for balancing 3 clases and synonym based augmentation to have more data in minority class to have better prformance for model training and reduce bias."
      ],
      "metadata": {
        "id": "lLzMor2dUJVj"
      }
    },
    {
      "cell_type": "markdown",
      "source": [
        "#References:\n",
        "https://www.kaggle.com/datasets/mrmorj/hate-speech-and-offensive-language-dataset"
      ],
      "metadata": {
        "id": "T_TQcbm9l4Pk"
      }
    }
  ]
}